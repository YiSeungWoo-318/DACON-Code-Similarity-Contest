{
 "cells": [
  {
   "cell_type": "code",
   "execution_count": 1,
   "id": "14f292a0",
   "metadata": {},
   "outputs": [],
   "source": [
    "import os\n",
    "from glob import glob\n",
    "from tqdm import tqdm\n",
    "import shutil\n",
    "from code_function import preprocess_script, make_dataset, reduction_dataset, indentation"
   ]
  },
  {
   "cell_type": "code",
   "execution_count": 6,
   "id": "81cf7e2a",
   "metadata": {},
   "outputs": [
    {
     "name": "stderr",
     "output_type": "stream",
     "text": [
      "100%|████████████████████████████████████████████████████████████████████████████████████████████████████████████████████████████████████████████████████████████████████████████████████████████| 3067/3067 [00:00<00:00, 5689.75it/s]\n"
     ]
    }
   ],
   "source": [
    "#완료된 파일 옮기기\n",
    "p = \"stdin\"\n",
    "problems= sorted(glob(f'D:/code_preprocessing/{p}/*.py'))\n",
    "for problem in tqdm(problems):\n",
    "    name = os.path.basename(problem)\n",
    "    name = name.split(\".\")[0]\n",
    "    folder = name.split(\"_\")[0]\n",
    "    if os.path.exists(f\"D:/code_preprocessing/{p}/{name}.txt\"):\n",
    "        shutil.copyfile(f\"D:/code_preprocessing/{p}/{name}.py\", f\"D:/code_preprocessing/executable/{name}.py\")\n",
    "        shutil.copyfile(f\"D:/code_preprocessing/{p}/{name}.txt\", f\"D:/code_preprocessing/executable/{name}.txt\")\n",
    "        os.remove(f\"D:/code_preprocessing/{p}/{name}.py\")\n",
    "        os.remove(f\"D:/code_preprocessing/{p}/{name}.txt\")"
   ]
  },
  {
   "cell_type": "code",
   "execution_count": 4,
   "id": "dcf75050",
   "metadata": {},
   "outputs": [],
   "source": [
    "#생성된 txt지우기\n",
    "files = glob(f\"D:/code_preprocessing/non_executable/*.py\")\n",
    "for f in files:\n",
    "    os.remove(f)"
   ]
  },
  {
   "cell_type": "code",
   "execution_count": 9,
   "id": "fe9cd264",
   "metadata": {},
   "outputs": [
    {
     "name": "stderr",
     "output_type": "stream",
     "text": [
      "100%|██████████████████████████████████████████████████████████████████████████████████████████████████████████████████████████████████████████████████████████████████████████████████████████| 45101/45101 [00:14<00:00, 3187.27it/s]\n"
     ]
    }
   ],
   "source": [
    "problems= sorted(glob('D:/code_preprocessing/execute/*.py'))\n",
    "for problem in tqdm(problems):\n",
    "    name = os.path.basename(problem)\n",
    "    name = name.split(\".\")[0]\n",
    "    folder = name.split(\"_\")[0]\n",
    "    if not os.path.exists(f\"D:/code_preprocessing/executable/{name}.txt\"):\n",
    "        shutil.copyfile(f\"D:/code_preprocessing/original/{folder}/{name}.py\", f\"D:/code_preprocessing/non_executable/{name}.py\")\n",
    "        "
   ]
  },
  {
   "cell_type": "code",
   "execution_count": 19,
   "id": "fb98a309",
   "metadata": {},
   "outputs": [
    {
     "name": "stderr",
     "output_type": "stream",
     "text": [
      "100%|███████████████████████████████████████████████████████████████████████████████████████████████████████████████████████████████████████████████████████████████████████████████████████████| 17745/17745 [02:04<00:00, 142.30it/s]\n"
     ]
    }
   ],
   "source": [
    "#안되는 것들은 임시 실행 폴더 만든 후 실행 \n",
    "problems = glob(\"D:/code_preprocessing/non_executable/*.py\")\n",
    "for e, problem in enumerate(tqdm(problems)):\n",
    "#     if e == 0:\n",
    "        name = os.path.basename(problem)\n",
    "        name = name.split(\".\")[0]\n",
    "        folder = name.split(\"_\")[0]\n",
    "        with open(problem, \"rt\", encoding='utf-8') as f:\n",
    "            text = f.read()\n",
    "            text = f\"import sys\\nsys.stdout = open(f'D:/code_preprocessing/manual/{name}.txt', 'w')\\n\"+text+\"\\nsys.stdout.close()\"\n",
    "        with open(f'D:/code_preprocessing/manual/{name}.py', \"wt\", encoding='utf-8') as f:\n",
    "            f.write(text)\n",
    "        "
   ]
  },
  {
   "cell_type": "code",
   "execution_count": 27,
   "id": "b2e47699",
   "metadata": {},
   "outputs": [
    {
     "name": "stderr",
     "output_type": "stream",
     "text": [
      "100%|██████████████████████████████████████████████████████████████████████████████████████████████████████████████████████████████████████████████████████████████████████████████████████| 17745/17745 [00:00<00:00, 186996.38it/s]\n"
     ]
    }
   ],
   "source": [
    "problems = glob(\"D:/code_preprocessing/non_executable/*.py\")\n",
    "for e, problem in enumerate(tqdm(problems)):\n",
    "#     if e == 0:\n",
    "        name = os.path.basename(problem)\n",
    "        name = name.split(\".\")[0]\n",
    "        folder = name.split(\"_\")[0]\n",
    "        if folder ==\"problem002\":\n",
    "            with open(problem, \"rt\", encoding='utf-8') as f:\n",
    "                text = f.read()\n",
    "                text = f\"import sys\\nfrom sys import stdin\\nsys.stdout = open(f'D:/code_preprocessing/manual/{name}.txt', 'w')\\nwith open('D:/open/temp/temp3.txt', 'wt') as f:\\n\\tf.write('1\\\\n 1\\\\n 1\\\\n 1\\\\n 1\\\\n 1\\\\n 1\\\\n 1\\\\n 1\\\\n 1\\\\n')\\nsys.stdin = open('D:/open/temp/temp3.txt', 'rt')\\nstdin = open('D:/open/temp/temp3.txt', 'rt')\\n\"+text+\"\\nsys.stdout.close()\"\n",
    "\n",
    "            with open(f'D:/code_preprocessing/manual/{name}.py', \"wt\", encoding='utf-8') as f:\n",
    "                f.write(text)\n",
    "            try:\n",
    "                p = subprocess.run(['python', f\"D:/code_preprocessing/manual/{name}.py\"], timeout=1.5)\n",
    "            except:\n",
    "                continue\n",
    "            \n"
   ]
  },
  {
   "cell_type": "code",
   "execution_count": 38,
   "id": "094cefb2",
   "metadata": {},
   "outputs": [
    {
     "name": "stderr",
     "output_type": "stream",
     "text": [
      "100%|██████████████████████████████████████████████████████████████████████████████████████████████████████████████████████████████████████████████████████████████████████████████████████| 17745/17745 [00:00<00:00, 197516.90it/s]\n"
     ]
    }
   ],
   "source": [
    "problems = glob(\"D:/code_preprocessing/non_executable/*.py\")\n",
    "for e, problem in enumerate(tqdm(problems)):\n",
    "#     if e == 0:\n",
    "        name = os.path.basename(problem)\n",
    "        name = name.split(\".\")[0]\n",
    "        folder = name.split(\"_\")[0]\n",
    "        if folder ==\"problem003\":\n",
    "            print(folder)\n",
    "#             with open(problem, \"rt\", encoding='utf-8') as f:\n",
    "#                 text = f.read()\n",
    "#                 text = f\"import sys\\nfrom sys import stdin\\nsys.stdout = open(f'D:/code_preprocessing/manual/{name}.txt', 'w')\\nwith open('D:/open/temp/temp3.txt', 'wt') as f:\\n\\tf.write('1\\\\n 1\\\\n 1\\\\n 1\\\\n 1\\\\n 1\\\\n 1\\\\n 1\\\\n 1\\\\n 1\\\\n')\\nsys.stdin = open('D:/open/temp/temp3.txt', 'rt')\\nstdin = open('D:/open/temp/temp3.txt', 'rt')\\n\"+text+\"\\nsys.stdout.close()\"\n",
    "\n",
    "#             with open(f'D:/code_preprocessing/manual/{name}.py', \"wt\", encoding='utf-8') as f:\n",
    "#                 f.write(text)\n",
    "#             try:\n",
    "#                 p = subprocess.run(['python', f\"D:/code_preprocessing/manual/{name}.py\"], timeout=1.5)\n",
    "#             except:\n",
    "#                 continue"
   ]
  },
  {
   "cell_type": "code",
   "execution_count": 10,
   "id": "345527a8",
   "metadata": {},
   "outputs": [
    {
     "name": "stderr",
     "output_type": "stream",
     "text": [
      "100%|██████████████████████████████████████████████████████████████████████████████████████████████████████████████████████████████████████████████████████████████████████████████████████| 17745/17745 [00:00<00:00, 131660.93it/s]\n"
     ]
    }
   ],
   "source": [
    "problems = glob(\"D:/code_preprocessing/non_executable/*.py\")\n",
    "for e, problem in enumerate(tqdm(problems)):\n",
    "    if e >= 75:\n",
    "        name = os.path.basename(problem)\n",
    "        name = name.split(\".\")[0]\n",
    "        folder = name.split(\"_\")[0]\n",
    "        if folder ==\"problem003\":\n",
    "            with open(problem, \"rt\", encoding='utf-8') as f:\n",
    "                text = f.read()\n",
    "                text = f\"import sys\\nfrom sys import stdin\\nsys.stdout = open(f'D:/code_preprocessing/manual/{name}.txt', 'w')\\nwith open('D:/open/temp/temp3.txt', 'wt') as f:\\n\\tf.write('1 1')\\nsys.stdin = open('D:/open/temp/temp3.txt', 'rt')\\nstdin = open('D:/open/temp/temp3.txt', 'rt')\\n\"+text+\"\\nsys.stdout.close()\"\n",
    "# text = text.replace(\"sys.stdin\", \"fileinput.input('D:/open/temp/temp3.txt', inplace = True)\")\n",
    "#                 text = f\"import sys\\nfrom sys import stdin\\nsys.stdout = open(f'D:/code_preprocessing/manual/{name}.txt', 'w')\\nwith open('D:/open/temp/temp3.txt', 'wt') as f:\\n\\tf.write('1 1')\\nimport fileinput\\n\"+text+\"\\nsys.stdout.close()\"\n",
    "\n",
    "            with open(f'D:/code_preprocessing/manual/{name}.py', \"wt\", encoding='utf-8') as f:\n",
    "                f.write(text)\n",
    "\n",
    "            try:\n",
    "                p = subprocess.run(['python', f\"D:/code_preprocessing/manual/{name}.py\"], timeout=1.5)\n",
    "            except:\n",
    "                continue"
   ]
  },
  {
   "cell_type": "code",
   "execution_count": 2,
   "id": "0653325c",
   "metadata": {},
   "outputs": [
    {
     "name": "stderr",
     "output_type": "stream",
     "text": [
      "100%|██████████████████████████████████████████████████████████████████████████████████████████████████████████████████████████████████████████████████████████████████████████████████████████| 45101/45101 [00:26<00:00, 1705.19it/s]\n"
     ]
    }
   ],
   "source": [
    "#기존 preprocess에 indentation 정리 추가\n",
    "#\n",
    "from code_function import preprocess_script, make_dataset, reduction_dataset\n",
    "problem_folders = glob('D:/open/code/*/*.py')\n",
    "for e, problem_folder in enumerate(tqdm(problem_folders)):\n",
    "    name = os.path.basename(problem_folder)\n",
    "    name = name.split(\".\")[0]\n",
    "    folder = name.split(\"_\")[0]\n",
    "    preprocessed_script = preprocess_script(problem_folder)\n",
    "    preprocessed_script = indentation(preprocessed_script)\n",
    "    with open(f'D:/code_preprocessing/clean/{name}.py', \"wt\", encoding='utf-8') as f:\n",
    "        f.write(preprocessed_script) "
   ]
  },
  {
   "cell_type": "code",
   "execution_count": 15,
   "id": "85922777",
   "metadata": {},
   "outputs": [],
   "source": [
    "import re\n",
    "def Pav(lines):\n",
    "    vline = []\n",
    "    loop_on = 0\n",
    "    for_num = 0\n",
    "    variable_list = ''\n",
    "    for line in lines:\n",
    "        start = line.lstrip()  \n",
    "        if \"=\" in line:\n",
    "            index = line.find(\"=\")\n",
    "            vb = line[:index]\n",
    "            f = vb.strip()\n",
    "            if \",\" in f:\n",
    "                FC = f.split(\",\")\n",
    "                FCB = len(FC)\n",
    "                tmp_num = 0\n",
    "                for fc in FC:\n",
    "                    fc = fc.strip()\n",
    "                    c = re.findall(r'\\w', fc)\n",
    "                    if len(fc) == len(c):\n",
    "                        tmp_num += 1\n",
    "                if FCB == tmp_num:\n",
    "                    variable = vb.lstrip()\n",
    "                    blank = len(vb) - len(variable)\n",
    "                    blank = vb[:blank]\n",
    "                    vline.append(line)\n",
    "                    rep = f\"{blank}print('{variable}:',{variable})\"\n",
    "                    vline.append(rep)\n",
    "                else:\n",
    "                    vline.append(line)\n",
    "            else:        \n",
    "                c = re.findall(r'\\w', f)\n",
    "                d = re.findall(r'\\w+\\[\\w+\\]', f)\n",
    "                if len(f) == len(c):\n",
    "                    variable = vb.lstrip()\n",
    "                    blank = len(vb) - len(variable)\n",
    "                    blank = vb[:blank]\n",
    "                    vline.append(line)\n",
    "                    rep = f\"{blank}print('{variable}:',{variable})\"\n",
    "                    variable_list += f\"{variable}, \"\n",
    "                    vline.append(rep)\n",
    "                elif len(f) == len(d):\n",
    "                    variable = vb.lstrip()\n",
    "                    blank = len(vb) - len(variable)\n",
    "                    blank = vb[:blank]\n",
    "                    vline.append(line)\n",
    "                    rep = f\"{blank}print('{variable}:',{variable})\"\n",
    "                    variable_list += f\"{variable}, \"\n",
    "                    vline.append(rep)\n",
    "                else:\n",
    "                    vline.append(line)\n",
    "        else:\n",
    "            vline.append(line)\n",
    "    vline = \"\\n\".join(vline)\n",
    "    return vline"
   ]
  },
  {
   "cell_type": "code",
   "execution_count": 16,
   "id": "fd3599df",
   "metadata": {},
   "outputs": [
    {
     "name": "stderr",
     "output_type": "stream",
     "text": [
      "100%|███████████████████████████████████████████████████████████████████████████████████████████████████████████████████████████████████████████████████████████████████████████████████████████| 45101/45101 [04:24<00:00, 170.43it/s]\n"
     ]
    }
   ],
   "source": [
    "#augmentation py\n",
    "problem_folders = glob(f'D:/code_preprocessing/clean/*.py')\n",
    "for e, problem_folder in enumerate(tqdm(problem_folders)):\n",
    "    name = os.path.basename(problem_folder)\n",
    "    name = name.split(\".\")[0]\n",
    "    folder = name.split(\"_\")[0]\n",
    "    with open(problem_folder, \"rt\", encoding='utf-8') as f:\n",
    "        text = f.readlines()\n",
    "        text = Pav(text)\n",
    "    with open(f\"D:/code_preprocessing/clean_aug/{name}.py\", \"wt\", encoding='utf-8') as f:    \n",
    "        f.write(text)    \n"
   ]
  },
  {
   "cell_type": "code",
   "execution_count": 17,
   "id": "14acd321",
   "metadata": {},
   "outputs": [
    {
     "name": "stderr",
     "output_type": "stream",
     "text": [
      "100%|███████████████████████████████████████████████████████████████████████████████████████████████████████████████████████████████████████████████████████████████████████████████████████████| 17602/17602 [01:48<00:00, 161.71it/s]\n"
     ]
    }
   ],
   "source": [
    "#stdin분류\n",
    "problem_folders = glob(f'D:/code_preprocessing/manual/*.py')\n",
    "for e, problem_folder in enumerate(tqdm(problem_folders)):\n",
    "    name = os.path.basename(problem_folder)\n",
    "    name = name.split(\".\")[0]\n",
    "    folder = name.split(\"_\")[0]\n",
    "    with open(problem_folder, \"rt\", encoding='utf-8') as f:\n",
    "        text = f.read()\n",
    "        if \"stdin\" in text:\n",
    "            with open(f\"D:/code_preprocessing/stdin/{name}.py\", \"wt\", encoding='utf-8') as f:    \n",
    "                f.write(text) \n",
    "        else:\n",
    "            with open(f\"D:/code_preprocessing/non_stdin/{name}.py\", \"wt\", encoding='utf-8') as f:    \n",
    "                f.write(text) "
   ]
  },
  {
   "cell_type": "code",
   "execution_count": 4,
   "id": "181c83f7",
   "metadata": {},
   "outputs": [
    {
     "name": "stderr",
     "output_type": "stream",
     "text": [
      "100%|██████████████████████████████████████████████████████████████████████████████████████████████████████████████████████████████████████████████████████████████████████████████████████████| 45101/45101 [00:17<00:00, 2546.36it/s]\n"
     ]
    }
   ],
   "source": [
    "# 파일이 더러워짐 \n",
    "#stdin분류\n",
    "problem_folders = glob(f'D:/code_preprocessing/clean_aug/*.py')\n",
    "for e, problem_folder in enumerate(tqdm(problem_folders)):\n",
    "    name = os.path.basename(problem_folder)\n",
    "    name = name.split(\".\")[0]\n",
    "    folder = name.split(\"_\")[0]\n",
    "#     if folder == \"problem009\":\n",
    "    if os.path.exists(f\"D:/code_preprocessing/stdin/{name}.py\"):\n",
    "        os.remove(f\"D:/code_preprocessing/stdin/{name}.py\")\n",
    "        shutil.copyfile(f'D:/code_preprocessing/clean_aug/{name}.py', f\"D:/code_preprocessing/stdin/{name}.py\")"
   ]
  },
  {
   "cell_type": "code",
   "execution_count": 3,
   "id": "be5dd24f",
   "metadata": {},
   "outputs": [
    {
     "name": "stderr",
     "output_type": "stream",
     "text": [
      " 20%|████████████████████████████████████▊                                                                                                                                                      | 3462/17600 [00:02<00:09, 1435.25it/s]\n"
     ]
    },
    {
     "ename": "KeyboardInterrupt",
     "evalue": "",
     "output_type": "error",
     "traceback": [
      "\u001b[1;31m---------------------------------------------------------------------------\u001b[0m",
      "\u001b[1;31mKeyboardInterrupt\u001b[0m                         Traceback (most recent call last)",
      "\u001b[1;32m~\\AppData\\Local\\Temp\\2\\ipykernel_6672\\2115761527.py\u001b[0m in \u001b[0;36m<module>\u001b[1;34m\u001b[0m\n\u001b[0;32m      6\u001b[0m     \u001b[0mfolder\u001b[0m \u001b[1;33m=\u001b[0m \u001b[0mname\u001b[0m\u001b[1;33m.\u001b[0m\u001b[0msplit\u001b[0m\u001b[1;33m(\u001b[0m\u001b[1;34m\"_\"\u001b[0m\u001b[1;33m)\u001b[0m\u001b[1;33m[\u001b[0m\u001b[1;36m0\u001b[0m\u001b[1;33m]\u001b[0m\u001b[1;33m\u001b[0m\u001b[1;33m\u001b[0m\u001b[0m\n\u001b[0;32m      7\u001b[0m     \u001b[1;32mif\u001b[0m \u001b[0mos\u001b[0m\u001b[1;33m.\u001b[0m\u001b[0mpath\u001b[0m\u001b[1;33m.\u001b[0m\u001b[0mbasename\u001b[0m\u001b[1;33m(\u001b[0m\u001b[1;34mf\"D:/code_preprocessing/stdin/{name}.py\"\u001b[0m\u001b[1;33m)\u001b[0m\u001b[1;33m:\u001b[0m\u001b[1;33m\u001b[0m\u001b[1;33m\u001b[0m\u001b[0m\n\u001b[1;32m----> 8\u001b[1;33m         \u001b[0mshutil\u001b[0m\u001b[1;33m.\u001b[0m\u001b[0mcopyfile\u001b[0m\u001b[1;33m(\u001b[0m\u001b[1;34mf'D:/code_preprocessing/manual/{name}.py'\u001b[0m\u001b[1;33m,\u001b[0m \u001b[1;34mf\"D:/code_preprocessing/stdin/{name}.py\"\u001b[0m\u001b[1;33m)\u001b[0m\u001b[1;33m\u001b[0m\u001b[1;33m\u001b[0m\u001b[0m\n\u001b[0m",
      "\u001b[1;32mD:\\python\\lib\\shutil.py\u001b[0m in \u001b[0;36mcopyfile\u001b[1;34m(src, dst, follow_symlinks)\u001b[0m\n\u001b[0;32m    101\u001b[0m \u001b[1;33m\u001b[0m\u001b[0m\n\u001b[0;32m    102\u001b[0m     \"\"\"\n\u001b[1;32m--> 103\u001b[1;33m     \u001b[1;32mif\u001b[0m \u001b[0m_samefile\u001b[0m\u001b[1;33m(\u001b[0m\u001b[0msrc\u001b[0m\u001b[1;33m,\u001b[0m \u001b[0mdst\u001b[0m\u001b[1;33m)\u001b[0m\u001b[1;33m:\u001b[0m\u001b[1;33m\u001b[0m\u001b[1;33m\u001b[0m\u001b[0m\n\u001b[0m\u001b[0;32m    104\u001b[0m         \u001b[1;32mraise\u001b[0m \u001b[0mSameFileError\u001b[0m\u001b[1;33m(\u001b[0m\u001b[1;34m\"{!r} and {!r} are the same file\"\u001b[0m\u001b[1;33m.\u001b[0m\u001b[0mformat\u001b[0m\u001b[1;33m(\u001b[0m\u001b[0msrc\u001b[0m\u001b[1;33m,\u001b[0m \u001b[0mdst\u001b[0m\u001b[1;33m)\u001b[0m\u001b[1;33m)\u001b[0m\u001b[1;33m\u001b[0m\u001b[1;33m\u001b[0m\u001b[0m\n\u001b[0;32m    105\u001b[0m \u001b[1;33m\u001b[0m\u001b[0m\n",
      "\u001b[1;32mD:\\python\\lib\\shutil.py\u001b[0m in \u001b[0;36m_samefile\u001b[1;34m(src, dst)\u001b[0m\n\u001b[0;32m     86\u001b[0m     \u001b[1;32mif\u001b[0m \u001b[0mhasattr\u001b[0m\u001b[1;33m(\u001b[0m\u001b[0mos\u001b[0m\u001b[1;33m.\u001b[0m\u001b[0mpath\u001b[0m\u001b[1;33m,\u001b[0m \u001b[1;34m'samefile'\u001b[0m\u001b[1;33m)\u001b[0m\u001b[1;33m:\u001b[0m\u001b[1;33m\u001b[0m\u001b[1;33m\u001b[0m\u001b[0m\n\u001b[0;32m     87\u001b[0m         \u001b[1;32mtry\u001b[0m\u001b[1;33m:\u001b[0m\u001b[1;33m\u001b[0m\u001b[1;33m\u001b[0m\u001b[0m\n\u001b[1;32m---> 88\u001b[1;33m             \u001b[1;32mreturn\u001b[0m \u001b[0mos\u001b[0m\u001b[1;33m.\u001b[0m\u001b[0mpath\u001b[0m\u001b[1;33m.\u001b[0m\u001b[0msamefile\u001b[0m\u001b[1;33m(\u001b[0m\u001b[0msrc\u001b[0m\u001b[1;33m,\u001b[0m \u001b[0mdst\u001b[0m\u001b[1;33m)\u001b[0m\u001b[1;33m\u001b[0m\u001b[1;33m\u001b[0m\u001b[0m\n\u001b[0m\u001b[0;32m     89\u001b[0m         \u001b[1;32mexcept\u001b[0m \u001b[0mOSError\u001b[0m\u001b[1;33m:\u001b[0m\u001b[1;33m\u001b[0m\u001b[1;33m\u001b[0m\u001b[0m\n\u001b[0;32m     90\u001b[0m             \u001b[1;32mreturn\u001b[0m \u001b[1;32mFalse\u001b[0m\u001b[1;33m\u001b[0m\u001b[1;33m\u001b[0m\u001b[0m\n",
      "\u001b[1;32mD:\\python\\lib\\genericpath.py\u001b[0m in \u001b[0;36msamefile\u001b[1;34m(f1, f2)\u001b[0m\n\u001b[0;32m     98\u001b[0m     \u001b[0mraises\u001b[0m \u001b[0man\u001b[0m \u001b[0mexception\u001b[0m \u001b[1;32mif\u001b[0m \u001b[0man\u001b[0m \u001b[0mos\u001b[0m\u001b[1;33m.\u001b[0m\u001b[0mstat\u001b[0m\u001b[1;33m(\u001b[0m\u001b[1;33m)\u001b[0m \u001b[0mcall\u001b[0m \u001b[0mon\u001b[0m \u001b[0meither\u001b[0m \u001b[0mpathname\u001b[0m \u001b[0mfails\u001b[0m\u001b[1;33m.\u001b[0m\u001b[1;33m\u001b[0m\u001b[1;33m\u001b[0m\u001b[0m\n\u001b[0;32m     99\u001b[0m     \"\"\"\n\u001b[1;32m--> 100\u001b[1;33m     \u001b[0ms1\u001b[0m \u001b[1;33m=\u001b[0m \u001b[0mos\u001b[0m\u001b[1;33m.\u001b[0m\u001b[0mstat\u001b[0m\u001b[1;33m(\u001b[0m\u001b[0mf1\u001b[0m\u001b[1;33m)\u001b[0m\u001b[1;33m\u001b[0m\u001b[1;33m\u001b[0m\u001b[0m\n\u001b[0m\u001b[0;32m    101\u001b[0m     \u001b[0ms2\u001b[0m \u001b[1;33m=\u001b[0m \u001b[0mos\u001b[0m\u001b[1;33m.\u001b[0m\u001b[0mstat\u001b[0m\u001b[1;33m(\u001b[0m\u001b[0mf2\u001b[0m\u001b[1;33m)\u001b[0m\u001b[1;33m\u001b[0m\u001b[1;33m\u001b[0m\u001b[0m\n\u001b[0;32m    102\u001b[0m     \u001b[1;32mreturn\u001b[0m \u001b[0msamestat\u001b[0m\u001b[1;33m(\u001b[0m\u001b[0ms1\u001b[0m\u001b[1;33m,\u001b[0m \u001b[0ms2\u001b[0m\u001b[1;33m)\u001b[0m\u001b[1;33m\u001b[0m\u001b[1;33m\u001b[0m\u001b[0m\n",
      "\u001b[1;31mKeyboardInterrupt\u001b[0m: "
     ]
    }
   ],
   "source": [
    "#stdin분류\n",
    "problem_folders = glob(f'D:/code_preprocessing/manual/*.py')\n",
    "for e, problem_folder in enumerate(tqdm(problem_folders)):\n",
    "    name = os.path.basename(problem_folder)\n",
    "    name = name.split(\".\")[0]\n",
    "    folder = name.split(\"_\")[0]\n",
    "    if os.path.basename(f\"D:/code_preprocessing/stdin/{name}.py\"):\n",
    "        shutil.copyfile(f'D:/code_preprocessing/manual/{name}.py', f\"D:/code_preprocessing/stdin/{name}.py\")"
   ]
  },
  {
   "cell_type": "code",
   "execution_count": 5,
   "id": "29791afb",
   "metadata": {},
   "outputs": [],
   "source": [
    "b1 = [['1','1','1','1','1','1','1','1','1','1'],['1 1', '1','1','1'],['1', '1 1','1 1','1 1'],['1 1','1 1','1','1'],['1','1','1 1','1 1'],['1 1 1'],['1 1 1','1'],['1','1 1 1'],['1 1 1 1'],['1 1 1 1','1'],['1','1 1 1 1'],['1 1 1 1 1'],['1 1 1 1 1 1']]\n",
    "def inputs(input_data):\n",
    "    x = f\"for FFF in {input_data}:\"\n",
    "    return x\n",
    "x = inputs(b1)"
   ]
  },
  {
   "cell_type": "code",
   "execution_count": 8,
   "id": "2162b4d0",
   "metadata": {},
   "outputs": [
    {
     "name": "stderr",
     "output_type": "stream",
     "text": [
      "100%|███████████████████████████████████████████████████████████████████████████████████████████████████████████████████████████████████████████████████████████████████████████████████████████| 17137/17137 [01:41<00:00, 168.15it/s]\n"
     ]
    }
   ],
   "source": [
    "problem_folders = glob(f'D:/code_preprocessing/stdin/*.py')\n",
    "for e, problem_folder in enumerate(tqdm(problem_folders)):\n",
    "    name = os.path.basename(problem_folder)\n",
    "    name = name.split(\".\")[0]\n",
    "    folder = name.split(\"_\")[0]\n",
    "    re_lines = []\n",
    "    with open(problem_folder,'r',encoding='utf-8') as file:\n",
    "        temp = file.read()\n",
    "    if \"stdin\" in temp:\n",
    "        continue\n",
    "    else:\n",
    "        with open(problem_folder,'r',encoding='utf-8') as file:\n",
    "            lines = file.readlines()\n",
    "            for line in lines:\n",
    "                re_lines.append(\"\\t\\t\\t\\t\\t\\t\"+line)\n",
    "        text = '\\n'.join(re_lines)\n",
    "        text =  f\"import sys\\nsys.stdout = open(f'D:/code_preprocessing/stdin/{name}.txt', 'w')\\nfrom unittest.mock import patch\\n\"+x+\"\\n\\t\\ttry:\\n\\t\\t\\t\\twith patch('builtins.input') as input_mock:\\n\\t\\t\\t\\t\\t\\tinput_mock.side_effect = FFF\\n\\t\\t\\t\\t\\t\\tprint('**START**')\\n\"+text+\"\\n\\t\\t\\t\\tprint('GOODJOBANDSUCCESS')\\n\\t\\texcept Exception as e:\\n\\t\\t\\t\\tprint('####')\\nsys.stdout.close()\"\n",
    "\n",
    "        with open(f\"D:/code_preprocessing/stdin/{name}.py\", \"wt\", encoding='utf-8') as f:\n",
    "            f.write(text)\n",
    "        try:\n",
    "            p = subprocess.run(['python', f\"D:/code_preprocessing/stdin/{name}.py\"], timeout=1.5)\n",
    "        except:\n",
    "            continue"
   ]
  },
  {
   "cell_type": "code",
   "execution_count": 5,
   "id": "95c93d98",
   "metadata": {},
   "outputs": [
    {
     "name": "stderr",
     "output_type": "stream",
     "text": [
      "100%|███████████████████████████████████████████████████████████████████████████████████████████████████████████████████████████████| 15629/15629 [00:54<00:00, 284.30it/s]\n"
     ]
    }
   ],
   "source": [
    "problem_folders = glob(f'D:/code_preprocessing/stdin/*.py')\n",
    "for e, problem_folder in enumerate(tqdm(problem_folders)):\n",
    "    name = os.path.basename(problem_folder)\n",
    "    name = name.split(\".\")[0]\n",
    "    with open(problem_folder, \"rt\", encoding='utf-8') as f:\n",
    "        text = f.read()\n",
    "        if \"stdin\" in text:\n",
    "            continue\n",
    "        else:\n",
    "            p = subprocess.run(['python', problem_folder], timeout=1.5)\n",
    "            \n",
    "#     try:\n",
    "#             p = subprocess.run(['python', problem_folder], timeout=1.5)\n",
    "#     except:\n",
    "#             continue"
   ]
  },
  {
   "cell_type": "code",
   "execution_count": 5,
   "id": "87c08848",
   "metadata": {},
   "outputs": [
    {
     "name": "stderr",
     "output_type": "stream",
     "text": [
      "100%|███████████████████████████████████████████████████████████████████████████████████████████████████████████████████████████████████████████████████████████████████████████████████████████| 3067/3067 [00:00<00:00, 95185.43it/s]\n"
     ]
    }
   ],
   "source": [
    "#stdin 코드\n",
    "problem_folders = glob(f'D:/code_preprocessing/stdin/*.py')\n",
    "for e, problem_folder in enumerate(tqdm(problem_folders)):\n",
    "    name = os.path.basename(problem_folder)\n",
    "    name = name.split(\".\")[0]\n",
    "    folder = name.split(\"_\")[0]\n",
    "    result = \"\"\n",
    "    if folder == \"problem004\":\n",
    "        F = [\"'1'\", \"'1 1 1'\"]\n",
    "    elif folder ==\"problem005\":\n",
    "        F = [\"'1 1'\"]\n",
    "    elif folder == \"problem006\":\n",
    "        F = [\"'1' '1' '1'\"]\n",
    "    elif folder == \"problem007\":\n",
    "        F = [\"'1' '1' '1'\"]\n",
    "    elif folder == \"problem008\":\n",
    "        F = [\"'1' '1 1'\"]\n",
    "    elif folder == \"problem009\":\n",
    "        F =[\"'1'\", \"'1 1'\"]  \n",
    "    elif folder == \"problem010\":\n",
    "        F =[\"'1'\", \"'1'\", \"'1'\", \"'1'\"]  \n",
    "    elif folder == \"problem012\":\n",
    "        F =[\"'2'\", \"'1 2'\"]\n",
    "    elif folder == \"problem013\":\n",
    "        F =[\"'1'\", \"'1 1'\"]\n",
    "    elif folder == \"problem278\":\n",
    "        F =[\"'1'\", \"'1'\"]\n",
    "    elif folder == \"problem277\":\n",
    "        F =[\"'1'\", \"'1 1 1'\"]\n",
    "    elif folder == \"problem277\":\n",
    "        F =[\"'1'\", \"'1 1 1'\"]\n",
    "    elif folder == \"problem264\":\n",
    "        F =[\"'1 1'\", \"'1 1'\", \"'1 1'\"]\n",
    "    elif folder == \"problem260\":\n",
    "        F =[\"'1 1'\", \"'1 1'\", \"'1 1'\"]\n",
    "    elif folder == \"problem259\":\n",
    "        F =[\"'1 1 1'\", \"'1 1'\"]\n",
    "    elif folder == \"problem258\":\n",
    "        F =[\"'1'\", \"'1'\"]\n",
    "    elif folder == \"problem244\":\n",
    "        F =[\"'1'\", \"'1 1'\"]\n",
    "    elif folder == \"problem234\":\n",
    "        F =[\"'2'\", \"'1 2'\"]\n",
    "    elif folder == \"problem225\":\n",
    "        F =[\"'1 1'\", \"'1 1'\", \"'1 1'\", \"'1 1'\", \"'1 1'\"]\n",
    "    elif folder == \"problem224\":\n",
    "        F =[\"'1 1'\", \"'1 1'\", \"'1 1'\", \"'1 1'\", \"'1 1'\"]\n",
    "    elif folder == \"problem223\":\n",
    "        F =[\"'1 1'\", \"'1 1'\", \"'1 1'\", \"'1 1'\", \"'1 1'\",\"'1 1'\", \"'1 1'\", \"'1 1'\", \"'1 1'\", \"'1 1'\"]\n",
    "    elif folder == \"problem222\":\n",
    "        F =[\"'1'\", \"'1'\"]\n",
    "    elif folder == \"problem211\":\n",
    "        F =[\"'1'\", \"'1 1'\"]\n",
    "    elif folder == \"problem210\":\n",
    "        F =[\"'1'\", \"'1 1 1'\"]\n",
    "    elif folder == \"problem206\":\n",
    "        F =[\"'1'\", \"'1'\", \"'1'\", \"'1'\", \"'1'\"]\n",
    "    elif folder == \"problem202\":\n",
    "        F =[\"'1 1 1'\", \"'1 1 1'\", \"'1 1 1'\"]\n",
    "    elif folder == \"problem197\":\n",
    "        F =[\"'1 1 1'\"]\n",
    "    elif folder == \"problem148\":\n",
    "        F =[\"'1'\", \"'1 1'\"]\n",
    "    elif folder == \"problem195\":\n",
    "        F =[\"'1'\", \"'1'\", \"'1'\", \"'1'\", \"'1'\", \"'1'\", \"'1'\", \"'1'\", \"'1'\", \"'1'\", \"'1'\", \"'1'\", \"'1'\", \"'1'\"]\n",
    "    elif folder == \"problem193\":\n",
    "        F =[\"'1 1 1'\"]\n",
    "    elif folder == \"problem191\":\n",
    "        F =[\"'1'\",\"'1'\",\"'1'\"]\n",
    "    elif folder == \"problem185\":\n",
    "        F =[\"'1'\",\"'1'\",\"'1'\"]\n",
    "    elif folder == \"problem184\":\n",
    "        F =[\"'1'\",\"'1'\",\"'1'\",\"'1'\",\"'1'\"]\n",
    "    elif folder == \"problem178\":\n",
    "        F =[\"'1'\",\"'1 1 1'\"]\n",
    "    elif folder == \"problem174\":\n",
    "        F =[\"'1'\",\"'1'\",\"'1'\",\"'1'\",\"'1'\",\"'1'\"]\n",
    "    elif folder == \"problem171\":\n",
    "        F =[\"'1'\",\"'1 1 1'\",\"'1 1 1'\",\"'1 1 1'\",\"'1 1 1'\",\"'1'\"]\n",
    "    elif folder == \"problem169\":\n",
    "        F =[\"'1'\",\"'1 '\",\"'1'\"]\n",
    "    elif folder == \"problem164\":\n",
    "        F =[\"'1 1 1 1'\",\"'1 '\",\"'1'\"]\n",
    "    elif folder == \"problem161\":\n",
    "        F =[\"'1 1 1'\",\"'1 1 1'\",\"'1 1 1'\",]\n",
    "    elif folder == \"problem153\":\n",
    "        F =[\"'1'\",\"'1'\",\"'1'\",\"'1'\",\"'1'\",\"'1'\",\"'1'\",\"'1'\",]\n",
    "    elif folder == \"problem152\":\n",
    "        F =[\"'1'\",\"'2'\",\"'2'\",\"'2'\",\"'2'\",\"'1'\",\"'1'\",\"'1'\",]\n",
    "    elif folder == \"problem150\":\n",
    "        F =[\"'1 1'\",\"'1'\",\"'1'\",\"'1'\",\"'1'\",\"'1'\",\"'1'\",\"'1'\",]\n",
    "    elif folder == \"problem146\":\n",
    "        F =[\"'1'\",\"'1 1'\"]\n",
    "    elif folder == \"problem143\":\n",
    "        F =[\"'1'\",\"'1'\",\"'1'\"]\n",
    "    elif folder == \"problem139\":\n",
    "        F =[\"'1 1 1 1 1'\",\"'1'\",\"'1'\"]\n",
    "    elif folder == \"problem138\":\n",
    "        F =[\"'1'\",\"'1 1'\",\"'1'\"]\n",
    "    elif folder == \"problem137\":\n",
    "        F =[\"'1'\",\"'1 1'\",\"'1'\"]\n",
    "    elif folder == \"problem131\":\n",
    "        F =[\"'1'\",\"'1 1'\",\"'1 1'\",\"'1 1'\",\"'1 1'\",\"'1 1'\"]\n",
    "    elif folder == \"problem120\":\n",
    "        F =[\"'1 1'\",\"'1'\"]\n",
    "    elif folder == \"problem99\":\n",
    "        F =[\"'1'\",\"'1 1'\",\"'1'\"]\n",
    "    elif folder == \"problem95\":\n",
    "        F =[\"'1'\",\"'1'\",\"'1'\"]\n",
    "    elif folder == \"problem80\":\n",
    "        F =[\"'1'\",\"'1 2'\",\"'1 2'\"]\n",
    "    elif folder == \"problem79\":\n",
    "        F =[\"'1'\",\"'1'\",\"'1'\",\"'1'\",\"'1'\",\"'1'\",\"'1'\",\"'1'\"]\n",
    "    elif folder == \"problem74\":\n",
    "        F =[\"'1 1'\",\"'1 1'\",\"'1 1'\",\"'1'\",\"'1'\",\"'1'\",\"'1'\",\"'1'\"]\n",
    "    elif folder == \"problem45\":\n",
    "        F =[\"'1 1'\",\"'1 1'\",\"'1 1'\",\"'1'\",\"'1'\",\"'1'\",\"'1'\",\"'1'\"]\n",
    "    elif folder == \"problem44\":\n",
    "        F =[\"'1 1 1'\",\"'1 1'\",\"'1 1'\",\"'1'\",\"'1'\",\"'1'\",\"'1'\",\"'1'\"]\n",
    "    elif folder == \"problem34\":\n",
    "        F =[\"'1 1 1'\",\"'1 1 1'\",\"'1 1 1'\",\"'1 1 1'\",\"'1'\",\"'1'\",\"'1'\",\"'1'\"]\n",
    "    elif folder == \"problem52\":\n",
    "        F =[\"'1'\",\"'1'\"]\n",
    "    elif folder == \"problem29\":\n",
    "        F =[\"'1 1 1 1'\",\"'1'\"]\n",
    "    elif folder == \"problem25\":\n",
    "        F =[\"'1 1 1 1 1'\",\"'1'\",\"'1'\",\"'1'\",\"'1'\"]\n",
    "        try:\n",
    "            result = preprocess_stdin(\"stdin\", name, F) \n",
    "\n",
    "            with open(f'D:/code_preprocessing/stdin/{name}.py', \"wt\", encoding='utf-8') as f:\n",
    "                f.write(result)\n",
    "        except:\n",
    "            pass"
   ]
  },
  {
   "cell_type": "code",
   "execution_count": 2,
   "id": "566c9593",
   "metadata": {},
   "outputs": [],
   "source": [
    "def preprocess_stdin(folder, name, F):\n",
    "    re_text = [f\"import sys\\nfrom sys import stdin\\nsys.stdout = open(f'D:/code_preprocessing/stdin/{name}.txt', 'w')\\n\"]\n",
    "    with open(f'D:/code_preprocessing/{folder}/{name}.py', \"rt\", encoding='utf-8') as f:\n",
    "        text = f.readlines()\n",
    "    temp = []\n",
    "    for t in text:    \n",
    "        if \"sys.stdin = open(\" in t:\n",
    "            continue\n",
    "        else:\n",
    "            temp.append(t)\n",
    "    text = temp\n",
    "    for t in text:\n",
    "        if (\"stdin\" in t) or (\"input()\" in t):\n",
    "            if not (\"from sys import stdin\" in t): \n",
    "                if not (\"sys.stdin = open('D:/open/temp/temp3.txt', 'rt')\" in t): \n",
    "                    if not (\"stdin = open('D:/open/temp/temp3.txt', 'rt')\" in t):\n",
    "                        if not \"code_preprocessing/stdin\" in t:\n",
    "                            start = t.lstrip()\n",
    "                            remain = len(t) - len(start)\n",
    "                            blank = \"\"\n",
    "                            if remain:\n",
    "                                try:\n",
    "                                    blank = t[:remain]\n",
    "                                except:\n",
    "                                    pass\n",
    "                            \n",
    "                            re_text.append(f\"\\n{blank}with open('D:/open/temp/temp3.txt', 'wt') as f:\\n{blank}\\t\\tf.write({F[0]})\\n{blank}sys.stdin = open('D:/open/temp/temp3.txt', 'rt')\\n{blank}stdin = open('D:/open/temp/temp3.txt', 'rt')\\n\")\n",
    "                            re_text.append(t)\n",
    "#                             print(re_text)\n",
    "                            F.pop(0)\n",
    "        else:\n",
    "            re_text.append(t)\n",
    "    re_text.append(\"\\nsys.stdout.close()\")\n",
    "    re_text = \"\\n\".join(re_text)\n",
    "    return re_text"
   ]
  },
  {
   "cell_type": "code",
   "execution_count": 101,
   "id": "03afc048",
   "metadata": {},
   "outputs": [
    {
     "name": "stdout",
     "output_type": "stream",
     "text": [
      "for i in range(int(input())):\n",
      "\n",
      "['1', '1 1']\n",
      "\tx = list(map(int, input().split()))\n",
      "\n",
      "['1 1']\n",
      "import sys\n",
      "from sys import stdin\n",
      "sys.stdout = open(f'D:/code_preprocessing/stdin/problem009_104.txt', 'w')\n",
      "\n",
      "def breadth_first_search(G):\n",
      "\n",
      "\n",
      "\n",
      "\tn = len(G)\n",
      "\n",
      "\n",
      "\n",
      "\tprint('n :',n )\n",
      "\n",
      "\td = [-1] * (n + 1)\n",
      "\n",
      "\n",
      "\n",
      "\tprint('d :',d )\n",
      "\n",
      "\td[1] = 0\n",
      "\n",
      "\n",
      "\n",
      "\tqueue = [1]\n",
      "\n",
      "\n",
      "\n",
      "\tprint('queue :',queue )\n",
      "\n",
      "\twhile len(queue) > 0:\n",
      "\n",
      "\n",
      "\n",
      "\t\tv = queue.pop(0)\n",
      "\n",
      "\n",
      "\n",
      "\t\tprint('v :',v )\n",
      "\n",
      "\t\tfor c in G[v]:\n",
      "\n",
      "\n",
      "\n",
      "\t\t\tif d[c] < 0:\n",
      "\n",
      "\n",
      "\n",
      "\t\t\t\td[c] = d[v] + 1\n",
      "\n",
      "\n",
      "\n",
      "\t\t\t\tqueue.append(c)\n",
      "\n",
      "\n",
      "\n",
      "\tfor i in range(1, n + 1):\n",
      "\n",
      "\n",
      "\n",
      "\t\tprint((i, d[i]))\n",
      "\n",
      "\n",
      "\n",
      "G = {}\n",
      "\n",
      "\n",
      "\n",
      "print('G :',G )\n",
      "\n",
      "\n",
      "with open('D:/open/temp/temp3.txt', 'wt') as f:\n",
      "\t\tf.write(1)\n",
      "sys.stdin = open('D:/open/temp/temp3.txt', 'rt')\n",
      "stdin = open('D:/open/temp/temp3.txt', 'rt')\n",
      "\n",
      "for i in range(int(input())):\n",
      "\n",
      "\n",
      "\n",
      "\n",
      "\twith open('D:/open/temp/temp3.txt', 'wt') as f:\n",
      "\t\t\tf.write(1 1)\n",
      "\tsys.stdin = open('D:/open/temp/temp3.txt', 'rt')\n",
      "\tstdin = open('D:/open/temp/temp3.txt', 'rt')\n",
      "\n",
      "\tx = list(map(int, input().split()))\n",
      "\n",
      "\n",
      "\n",
      "\tprint('x :',x )\n",
      "\n",
      "\tG[x[0]] = x[2:]\n",
      "\n",
      "\n",
      "\n",
      "breadth_first_search(G)\n",
      "\n",
      "sys.stdout.close()\n"
     ]
    }
   ],
   "source": [
    "#error파일 검사\n",
    "F = [\"1\", \"1 1\"]  \n",
    "re_text = [f\"import sys\\nfrom sys import stdin\\nsys.stdout = open(f'D:/code_preprocessing/stdin/problem009_104.txt', 'w')\\n\"]\n",
    "with open(f'D:/code_preprocessing/stdin/problem009_104.py', \"rt\", encoding='utf-8') as f:\n",
    "    text = f.readlines()\n",
    "temp = []\n",
    "for t in text:    \n",
    "    if \"sys.stdin = open(\" in t:\n",
    "        continue\n",
    "    else:\n",
    "        temp.append(t)\n",
    "text = temp\n",
    "for t in text:\n",
    "    if (\"stdin\" in t) or (\"input()\" in t):\n",
    "        if not (\"from sys import stdin\" in t): \n",
    "            if not (\"sys.stdin = open('D:/open/temp/temp3.txt', 'rt')\" in t): \n",
    "                if not (\"stdin = open('D:/open/temp/temp3.txt', 'rt')\" in t):\n",
    "                    if not \"code_preprocessing/stdin\" in t:\n",
    "                        start = t.lstrip()\n",
    "                        remain = len(t) - len(start)\n",
    "                        blank = \"\"\n",
    "                        if remain:\n",
    "                            try:\n",
    "                                blank = t[:remain]\n",
    "                            except:\n",
    "                                pass\n",
    "\n",
    "                        re_text.append(f\"\\n{blank}with open('D:/open/temp/temp3.txt', 'wt') as f:\\n{blank}\\t\\tf.write({F[0]})\\n{blank}sys.stdin = open('D:/open/temp/temp3.txt', 'rt')\\n{blank}stdin = open('D:/open/temp/temp3.txt', 'rt')\\n\")\n",
    "                        re_text.append(t)\n",
    "                        print(t)\n",
    "                        print(F)\n",
    "                        F.pop(0)\n",
    "    else:\n",
    "        re_text.append(t)\n",
    "re_text.append(\"\\nsys.stdout.close()\")\n",
    "re_text = \"\\n\".join(re_text)\n",
    "print(re_text)"
   ]
  }
 ],
 "metadata": {
  "kernelspec": {
   "display_name": "Python 3 (ipykernel)",
   "language": "python",
   "name": "python3"
  },
  "language_info": {
   "codemirror_mode": {
    "name": "ipython",
    "version": 3
   },
   "file_extension": ".py",
   "mimetype": "text/x-python",
   "name": "python",
   "nbconvert_exporter": "python",
   "pygments_lexer": "ipython3",
   "version": "3.7.9"
  }
 },
 "nbformat": 4,
 "nbformat_minor": 5
}
